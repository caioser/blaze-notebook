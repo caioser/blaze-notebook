{
 "cells": [
  {
   "cell_type": "code",
   "execution_count": 1,
   "id": "83c34eb1",
   "metadata": {
    "scrolled": true
   },
   "outputs": [
    {
     "name": "stdout",
     "output_type": "stream",
     "text": [
      "do\n"
     ]
    }
   ],
   "source": [
    "import pandas as pd\n",
    "import matplotlib.pyplot as plt\n",
    "import numpy as np\n",
    "import hmac\n",
    "import hashlib\n",
    "from datetime import datetime, timedelta\n",
    "from math import pow, floor\n",
    "\n",
    "from selenium import webdriver\n",
    "from selenium.webdriver.common.keys import Keys # send keys like: Keys.ENTER\n",
    "\n",
    "from selenium.webdriver.common.by import By # find_element_by_xpath == find_element(By.XPATH, \"//div[@class='entries']/*\")\n",
    "from selenium.webdriver.support.ui import WebDriverWait # Explicit waits\n",
    "from selenium.webdriver.support import expected_conditions as EC #conditionits for explicit waits\n",
    "\n",
    "pd.set_option('max_colwidth', 70)\n",
    "\n",
    "print('do')"
   ]
  },
  {
   "cell_type": "code",
   "execution_count": 2,
   "id": "0709e9c8",
   "metadata": {},
   "outputs": [],
   "source": [
    "def divisible(hash_hmac, mod):\n",
    "\n",
    "#    print(f\">>> divisible({hash_hmac}, {mod})\")\n",
    "\n",
    "    val_i = 0\n",
    "    val_f = 0\n",
    "    # print(f\"estanciando val = {val_i}\")\n",
    "    o = len(hash_hmac) % 4\n",
    "    # print(f\"estanciando o = len(hash_hmac) % 4 = {o}\")\n",
    "\n",
    "    if o > 0:\n",
    "        o -= 4\n",
    "        print(f\"WARNING: [ o > 0 = True ]   value of 'o' is '{o}'\")\n",
    "\n",
    "#    print(f\">>> for x in range(0,{len(hash_hmac)},4):\")\n",
    "\n",
    "    df1 = pd.DataFrame(data={}, columns=[\"x\", \"val_i\", \"bitwised\", \"hex_hash\", \"int_hash\", \"val_f\", \"== 0\"])\n",
    "    for x in range(0,len(hash_hmac),4):\n",
    "        # print(f\"x = {x}     val = {val_i}\")\n",
    "        # print(f\"val_f = ((val_i << 16) + int({hash_hmac[x:x+4]},16)) % mod\")\n",
    "        # print(f\"val_f = ({val_i << 16} + {int(hash_hmac[x:x+4],16)}) % {mod}\")\n",
    "\n",
    "        val_f = ((val_i << 16) + int(hash_hmac[x:x+4],16)) % mod\n",
    "\n",
    "        df1 = df1.append(\n",
    "                pd.Series([\n",
    "                    x,\n",
    "                    val_i,\n",
    "                    val_i<<16,\n",
    "                    hash_hmac[x:x+4],\n",
    "                    int(hash_hmac[x:x+4],16),\n",
    "                    val_f,\n",
    "                    val_f==0\n",
    "                    ],\n",
    "                    index=df1.columns),\n",
    "                ignore_index=True)\n",
    "\n",
    "        val_i = val_f\n",
    "    #print(df1)\n",
    "    return [val_i == 0, df1[\"== 0\"]]"
   ]
  },
  {
   "cell_type": "code",
   "execution_count": 3,
   "id": "c1f4c309",
   "metadata": {},
   "outputs": [],
   "source": [
    "def getPoint(hash_hmac):\n",
    "#    print(\"Inicio GETPOINT()\")\n",
    "\n",
    "#    print(f\"{hash_hmac} é divisível por 15?\")\n",
    "    test = divisible(hash_hmac, 15)\n",
    "    if test[0]:\n",
    "#        print(\"Sim, então:\")\n",
    "#        print(f\"\"\"CRASH: 0\\\n",
    "#\n",
    "#\n",
    "#        \"\"\")\n",
    "        return 0\n",
    "#    print(\"Não então:\")\n",
    "    h = int(hash_hmac[0:int(52/4)], 16)\n",
    "    e = int(pow(2, 52))\n",
    "#    print(f\"proporção h/e: {(h/e)*100:.3f}%\")\n",
    "#    print(f\"estanciando h = int({hash_hmac[0:int(52/4)]}) = {h:,} ({(h/e)*100:.3f}%)\")\n",
    "#    print(f\"estanciando e = int(pow(2, 52)) = {e:,} (100%)\")\n",
    "\n",
    "\n",
    "    # print(f'point = float(format((floor((100 * {e:,} - {h:,}) / ({e:,} - {h:,})) / 100), \".2f\"))')\n",
    "\n",
    "    # print(f'((100 * {e:,} - {h:,}) / ({e:,} - {h:,})) / 100')\n",
    "    # print(f'(({100*e:,} - {h:,}) / ({e-h:,})) / 100')\n",
    "    # print(f'({100*e-h:,} / {e-h:,}) / 100')\n",
    "    # print(f'floor({(100*e-h) / (e-h):,}) / 100')\n",
    "    # print(f'{floor((100*e-h) / (e-h))} / 100')\n",
    "\n",
    "#    print(f'((100 * 1 - {h/e:.3f}) / (1 - {h/e:.3f})) / 100')\n",
    "#    print(f'((100 - {h/e:.3f}) / {1 - (h/e):.3f}) / 100')\n",
    "#    print(f'({100 - (h/e):.3f} / {1 - (h/e):.3f}) / 100')\n",
    "#    print(f'floor({(100 - (h/e)) / (1 - (h/e)):.3f}) / 100')\n",
    "\n",
    "    point = float(format((floor((100 * e - h) / (e - h)) / 100), \".2f\"))\n",
    "#    print(f\"\"\"CRASH: {point}\\\n",
    "#\n",
    "#\n",
    "#    \"\"\")\n",
    "    return [point,\n",
    "            int(''.join(str(e) for e in [int(not(e)) for e in list(map(int, test[1].to_numpy()))]), 2),\n",
    "            ''.join(str(e) for e in [int(not(e)) for e in list(map(int, test[1].to_numpy()))]),\n",
    "            (h/e)*100]"
   ]
  },
  {
   "cell_type": "code",
   "execution_count": 4,
   "id": "d5b056e2",
   "metadata": {
    "scrolled": true
   },
   "outputs": [
    {
     "data": {
      "text/plain": [
       "'5f5f9da7af0feedcb21a3cf96917df0788b895b09499977e1d23e4710d71bb05'"
      ]
     },
     "execution_count": 4,
     "metadata": {},
     "output_type": "execute_result"
    }
   ],
   "source": [
    "def seed(hash, amount=9):\n",
    "    chain = [hash]\n",
    "    for x in range(amount):\n",
    "        chain.append(hashlib.sha256(str.encode(chain[x])).hexdigest())\n",
    "        #print(len(chain),chain[len(chain)-1])\n",
    "    return pd.Series(chain)\n",
    "        \n",
    "seeds = seed('5f5f9da7af0feedcb21a3cf96917df0788b895b09499977e1d23e4710d71bb05')\n",
    "seeds[0]"
   ]
  },
  {
   "cell_type": "code",
   "execution_count": 5,
   "id": "90a834ab",
   "metadata": {
    "scrolled": true
   },
   "outputs": [
    {
     "name": "stdout",
     "output_type": "stream",
     "text": [
      "   crashes                                                             seeds  \\\n",
      "0     4.06  5f5f9da7af0feedcb21a3cf96917df0788b895b09499977e1d23e4710d71bb05   \n",
      "1     1.16  7aaf90ac37ed69f552b9841eb1f9b996b2b5e6cfbcc8775fc136e4af0091318c   \n",
      "2     4.32  dece818276710176152ea9548d4539e0e3a9aaf7883b23d91fd61775194d9073   \n",
      "3     1.17  43cf1abd23b158e9bb7fcc4546a208295c6e4cb9362a769c72efdb46ac75a2c5   \n",
      "4     2.21  954a061f5450c6980823785ac7d121a1ad2dbd648380c856ba1e7c6f8976731f   \n",
      "5     1.66  acc6f156795e5695923591c845ea8bbec46591dfe908b56b8b14ed7cb77ca48e   \n",
      "6     1.12  23109a1a414997c736b8a91e9fbaa900a3708c998ef3838dda82628260b74b09   \n",
      "7     3.72  b0a36425d33e09d330d165de3dee4ba43ec9be4b49d58f2e13d346abea373b08   \n",
      "8     2.52  a5928ec46d37d46bf4e7d42b832a03471cd69310d55afccca529c16e5e9e0bf3   \n",
      "9     1.96  b9456c54db29eefd2d711a5191a74e37d4c5ea7e2dc81bb1f4aea1e72f0609c0   \n",
      "\n",
      "                                                              hmacs    dec  \\\n",
      "0  c191a357c9bbc2497189824bf68ed649df2e28a8fbc1d86ee1d6ed756b3340de  65471   \n",
      "1  24ba846e83e8656368973513f87a79d8281aedfd61b046f3045894e44868058e  65535   \n",
      "2  c53865c17fda22b57e8a7ccc38898673c4f2761ff59dc31462cc7222a53e423b  65515   \n",
      "3  25fa839744d49159965d723cf92c9c83664ab242d36010ce9617d3d6042610b4  64511   \n",
      "4  8d42992ba3119ee354cfc17e8f0c12a522635633426eb7f431451e6ec391d2df  65535   \n",
      "5  6726928d7e710d97eb1353fe66e06b514a7a68f478bae259f831ba36cd22f8cf  65535   \n",
      "6  1be111caf96b6bc14250c91f13b6c692c0e6ab63197df86b562533e1f2e81f55  65535   \n",
      "7  bbb5568ba8b324cc5ced856798c0e44caadf1b236646f26c3579bd4da312c8ac  65531   \n",
      "8  9b193cd3116fd474691690160cea89ae1b1fb1acbb39708c231a048dc5abdf6c  31615   \n",
      "9  7e2b49e74f561c8b1ad8d84230b818dbc2c0eff4c61afe9e0e4ca037e1e03b16  65407   \n",
      "\n",
      "                bin      scale  \n",
      "0  1111111110111111  75.612851  \n",
      "1  1111111111111111  14.347103  \n",
      "2  1111111111101011  77.039181  \n",
      "3  1111101111111111  14.835379  \n",
      "4  1111111111111111  55.179746  \n",
      "5  1111111111111111  40.293232  \n",
      "6  1111111111111111  10.890304  \n",
      "7  1111111111111011  73.323575  \n",
      "8  0111101101111111  60.585385  \n",
      "9  1111111101111111  49.284803  \n"
     ]
    }
   ],
   "source": [
    "def hashes(seed_series):\n",
    "    client_seed = \"0000000000000000000415ebb64b0d51ccee0bb55826e43846e5bea777d91966\"\n",
    "    hmacs = []\n",
    "    crashes = []\n",
    "    inIntFromBin = []\n",
    "    inBin = []\n",
    "    scale = []\n",
    "    \n",
    "    for seed in seed_series:\n",
    "        #print(f'hash_hmac = hmac.new(str.encode(seed), str.encode(client_seed), hashlib.sha256).hexdigest()')\n",
    "        #print(f'hash_hmac = hmac.new({str.encode(seed)}, {str.encode(client_seed)}, hashlib.sha256).hexdigest()')\n",
    "        hash_hmac = hmac.new(str.encode(seed), str.encode(client_seed), hashlib.sha256).hexdigest()\n",
    "        hmacs.append(hash_hmac)\n",
    "\n",
    "        point = getPoint(hash_hmac)\n",
    "        crashes.append(point[0])\n",
    "        inIntFromBin.append(point[1])\n",
    "        inBin.append(point[2])\n",
    "        scale.append(point[3])\n",
    "        \n",
    "    return pd.DataFrame({\n",
    "                         'crashes':crashes,\n",
    "                         'seeds':seed_series,\n",
    "                         'hmacs':hmacs,\n",
    "                         'dec':inIntFromBin,\n",
    "                         'bin':inBin,\n",
    "                         'scale':scale\n",
    "                        })\n",
    "\n",
    "z = hashes(seeds)\n",
    "print(z)"
   ]
  },
  {
   "cell_type": "code",
   "execution_count": 6,
   "id": "42d8bf3d",
   "metadata": {},
   "outputs": [
    {
     "data": {
      "text/plain": [
       "'0.000015259021896696'"
      ]
     },
     "execution_count": 6,
     "metadata": {},
     "output_type": "execute_result"
    }
   ],
   "source": [
    "f\"{(int('25fb', 16)/int('ffff', 16)) - (int('25fa', 16)/int('ffff', 16)):.18f}\""
   ]
  },
  {
   "cell_type": "code",
   "execution_count": 7,
   "id": "0fea72c0",
   "metadata": {},
   "outputs": [
    {
     "data": {
      "text/plain": [
       "0.0002288853284504455"
      ]
     },
     "execution_count": 7,
     "metadata": {},
     "output_type": "execute_result"
    }
   ],
   "source": [
    "((int('25fb', 16)/int('ffff', 16)) - (int('25fa', 16)/int('ffff', 16)))*15"
   ]
  },
  {
   "cell_type": "code",
   "execution_count": 8,
   "id": "d9898af5",
   "metadata": {},
   "outputs": [
    {
     "name": "stdout",
     "output_type": "stream",
     "text": [
      "9735 --> 2607 --> 0.14854657816433967 --> 0 --> 0\n",
      "9736 --> 2608 --> 0.14856183718623636 --> 1 --> 65536\n",
      "9737 --> 2609 --> 0.14857709620813306 --> 2 --> 131072\n",
      "9738 --> 260a --> 0.14859235523002975 --> 3 --> 196608\n",
      "9739 --> 260b --> 0.14860761425192645 --> 4 --> 262144\n",
      "9740 --> 260c --> 0.14862287327382315 --> 5 --> 327680\n",
      "9741 --> 260d --> 0.14863813229571984 --> 6 --> 393216\n",
      "9742 --> 260e --> 0.14865339131761654 --> 7 --> 458752\n",
      "9743 --> 260f --> 0.14866865033951324 --> 8 --> 524288\n",
      "9744 --> 2610 --> 0.14868390936140993 --> 9 --> 589824\n",
      "9745 --> 2611 --> 0.14869916838330663 --> 10 --> 655360\n",
      "9746 --> 2612 --> 0.14871442740520333 --> 11 --> 720896\n",
      "9747 --> 2613 --> 0.14872968642710002 --> 12 --> 786432\n",
      "9748 --> 2614 --> 0.14874494544899672 --> 13 --> 851968\n",
      "9749 --> 2615 --> 0.14876020447089341 --> 14 --> 917504\n"
     ]
    }
   ],
   "source": [
    "for x in range(15):\n",
    "    print(f\"{9735+x} --> {f'{hex(9735+x)}'[2:]} --> {(9735+x)/int('ffff', 16)} --> {(9735+x)%15} --> {((9735+x)%15)<<16}\")"
   ]
  },
  {
   "cell_type": "code",
   "execution_count": 9,
   "id": "c89215f3",
   "metadata": {},
   "outputs": [
    {
     "data": {
      "text/plain": [
       "65535"
      ]
     },
     "execution_count": 9,
     "metadata": {},
     "output_type": "execute_result"
    }
   ],
   "source": [
    "int('ffff', 16)"
   ]
  },
  {
   "cell_type": "code",
   "execution_count": 10,
   "id": "605e0e4e",
   "metadata": {},
   "outputs": [
    {
     "data": {
      "text/plain": [
       "983039"
      ]
     },
     "execution_count": 10,
     "metadata": {},
     "output_type": "execute_result"
    }
   ],
   "source": [
    "(14<<16) + int('ffff', 16)"
   ]
  },
  {
   "cell_type": "code",
   "execution_count": 11,
   "id": "c175c68b",
   "metadata": {},
   "outputs": [
    {
     "data": {
      "text/plain": [
       "65470"
      ]
     },
     "execution_count": 11,
     "metadata": {},
     "output_type": "execute_result"
    }
   ],
   "source": [
    "int(b'1111111110111110', 2)"
   ]
  },
  {
   "cell_type": "code",
   "execution_count": 12,
   "id": "6eb228f4",
   "metadata": {},
   "outputs": [
    {
     "data": {
      "text/plain": [
       "65407"
      ]
     },
     "execution_count": 12,
     "metadata": {},
     "output_type": "execute_result"
    }
   ],
   "source": [
    "s = pd.Series(\n",
    "    [\n",
    "    False,\n",
    "    False,\n",
    "    False,\n",
    "    False,\n",
    "    False,\n",
    "    False,\n",
    "    False,\n",
    "    False,\n",
    "    True,\n",
    "    False,\n",
    "    False,\n",
    "    False,\n",
    "    False,\n",
    "    False,\n",
    "    False,\n",
    "    False,\n",
    "    ]\n",
    ")\n",
    "\n",
    "\n",
    "int(''.join(str(e) for e in [int(not(e)) for e in list(map(int, s.to_numpy()))]), 2)"
   ]
  },
  {
   "cell_type": "code",
   "execution_count": 13,
   "id": "82208813",
   "metadata": {
    "scrolled": false
   },
   "outputs": [
    {
     "data": {
      "text/plain": [
       "[1, 1, 1, 1, 1, 1, 1, 1, 0, 1, 1, 1, 1, 1, 1, 1]"
      ]
     },
     "execution_count": 13,
     "metadata": {},
     "output_type": "execute_result"
    }
   ],
   "source": [
    "[int(not(e)) for e in list(map(int, s.to_numpy()))]"
   ]
  },
  {
   "cell_type": "code",
   "execution_count": 14,
   "id": "859c4934",
   "metadata": {},
   "outputs": [
    {
     "data": {
      "text/plain": [
       "'1111111101111111'"
      ]
     },
     "execution_count": 14,
     "metadata": {},
     "output_type": "execute_result"
    }
   ],
   "source": [
    "''.join(str(e) for e in [int(not(e)) for e in list(map(int, s.to_numpy()))])"
   ]
  },
  {
   "cell_type": "code",
   "execution_count": 15,
   "id": "1e0fd627",
   "metadata": {},
   "outputs": [
    {
     "name": "stdout",
     "output_type": "stream",
     "text": [
      "ed4cf2ea5eaa5e89dd5e9443a7817b3ed4c3f3105e70b67aa10d4aa4415166a9\n"
     ]
    }
   ],
   "source": [
    "aleatory_captured_hashes = [\n",
    "    '9e3548f370097ea623ddc9b22b338fb26878c5fba7244eb464f55af2a9656dc5', #13.56 KV16dnWXlB jogada em 13/10/2021 4:03 pm\n",
    "    'abe6ad5995d75c77aab270d3a1efca1aad4ada36e09a6a632fc0ed547ab9a6a7', # 1.00 8Lkn32Mbl3 jogada em 13/10/2021 4:19 pm\n",
    "    'c43ed26d1c1f60f31ab5888b5c290c2dbda6c293c160bfeadee6f4569a276c4d', # 4.25            jogada em 10/10/2021 5:39 pm\n",
    "]\n",
    "\n",
    "rexi = hmac.new(\n",
    "        str.encode(aleatory_captured_hashes[0]), \n",
    "        str.encode(\"0000000000000000000415ebb64b0d51ccee0bb55826e43846e5bea777d91966\"), \n",
    "        hashlib.sha256\n",
    "        ).hexdigest()\n",
    "    \n",
    "print(rexi)"
   ]
  },
  {
   "cell_type": "code",
   "execution_count": 16,
   "id": "47c183cc",
   "metadata": {},
   "outputs": [],
   "source": [
    "class Divisible:\n",
    "    def __init__(self, hashHmac=None, mod=15):\n",
    "        self.hash = hashHmac\n",
    "        self.mod = mod\n",
    "        self.df = pd.DataFrame(\n",
    "                data={},\n",
    "                columns=[\n",
    "                    \"x\",\n",
    "                    \"val_i\",\n",
    "                    \"bitwised\",\n",
    "                    \"hex_hash\",\n",
    "                    \"int_hash\",\n",
    "                    \"bit+int\",\n",
    "                    \"val_f\",\n",
    "                    \"!= 0\"\n",
    "                ])\n",
    "        self.check_divisible()\n",
    "\n",
    "    def check_divisible(self):\n",
    "        vali, valf, o = (0, 0, len(self.hash)%4)\n",
    "        o -= 4 if o > 0 else o\n",
    "\n",
    "        for x in range(0, len(self.hash), 4):\n",
    "            valf = ((vali << 16) + int(self.hash[x:x+4], 16)) % self.mod\n",
    "            self.df = self.df.append(\n",
    "                    pd.Series(\n",
    "                        data=[\n",
    "                            x,\n",
    "                            vali,\n",
    "                            vali << 16,\n",
    "                            self.hash[x:x+4],\n",
    "                            int(self.hash[x:x+4], 16),\n",
    "                            (vali << 16) + int(self.hash[x:x+4], 16),\n",
    "                            valf,\n",
    "                            int(valf != 0)\n",
    "                        ],\n",
    "                        index=self.df.columns\n",
    "                    ),\n",
    "                    ignore_index=True)\n",
    "            vali = valf\n",
    "        \n",
    "        self.divisible = vali == 0\n",
    "        self.bined = ''.join(str(e) for e in self.df['!= 0'])\n",
    "        self.hexed = ''.join([hex(e)[2:] for e in self.df['val_f']])"
   ]
  },
  {
   "cell_type": "code",
   "execution_count": 17,
   "id": "4afce921",
   "metadata": {
    "scrolled": false
   },
   "outputs": [
    {
     "name": "stdout",
     "output_type": "stream",
     "text": [
      "     x val_i bitwised hex_hash int_hash bit+int val_f != 0\n",
      "0    0     0        0     ed4c    60748   60748    13    1\n",
      "1    4    13   851968     f2ea    62186  914154     9    1\n",
      "2    8     9   589824     5eaa    24234  614058     3    1\n",
      "3   12     3   196608     5e89    24201  220809     9    1\n",
      "4   16     9   589824     dd5e    56670  646494     9    1\n",
      "5   20     9   589824     9443    37955  627779    14    1\n",
      "6   24    14   917504     a781    42881  960385    10    1\n",
      "7   28    10   655360     7b3e    31550  686910     0    0\n",
      "8   32     0        0     d4c3    54467   54467     2    1\n",
      "9   36     2   131072     f310    62224  193296     6    1\n",
      "10  40     6   393216     5e70    24176  417392     2    1\n",
      "11  44     2   131072     b67a    46714  177786     6    1\n",
      "12  48     6   393216     a10d    41229  434445     0    0\n",
      "13  52     0        0     4aa4    19108   19108    13    1\n",
      "14  56    13   851968     4151    16721  868689     9    1\n",
      "15  60     9   589824     66a9    26281  616105    10    1\n",
      "False\n",
      "1111111011110111\n",
      "d9399ea026260d9a\n"
     ]
    }
   ],
   "source": [
    "u = Divisible(rexi)\n",
    "\n",
    "print(u.df)\n",
    "print(u.divisible)\n",
    "print(u.bined)\n",
    "print(u.hexed)"
   ]
  },
  {
   "cell_type": "code",
   "execution_count": 18,
   "id": "c704e96b",
   "metadata": {},
   "outputs": [
    {
     "data": {
      "text/plain": [
       "'4151'"
      ]
     },
     "execution_count": 18,
     "metadata": {},
     "output_type": "execute_result"
    }
   ],
   "source": [
    "u.df.iat[-2, 3]"
   ]
  },
  {
   "cell_type": "code",
   "execution_count": 19,
   "id": "d3ebad82",
   "metadata": {},
   "outputs": [
    {
     "name": "stdout",
     "output_type": "stream",
     "text": [
      "1111111011110111\n",
      "d9399ea026260d9a\n",
      "15,652,716,390,574,853,530\n",
      "17,216,961,135,462,248,174\n",
      "90.91451312121815\n"
     ]
    }
   ],
   "source": [
    "print(''.join(str(e) for e in u.df['!= 0']))\n",
    "\n",
    "myHex = ''.join([hex(e)[2:] for e in u.df['val_f']])\n",
    "myHexInt = int(myHex, 16)\n",
    "myTotal = int(\"eeeeeeeeeeeeeeee\", 16)\n",
    "print(myHex)\n",
    "print(f'{myHexInt:,}')\n",
    "print(f'{myTotal:,}')\n",
    "print((myHexInt/myTotal)*100)"
   ]
  },
  {
   "cell_type": "code",
   "execution_count": 20,
   "id": "fd39f9cf",
   "metadata": {},
   "outputs": [],
   "source": [
    "class Crash():\n",
    "    def __init__(self, hashHmac):\n",
    "        self.hash = hashHmac\n",
    "        self.d = Divisible(self.hash, 15)\n",
    "        self.h = int(self.hash[0:int(52/4)], 16)\n",
    "        self.e = int(pow(2, 52))\n",
    "        self.point = float(format((floor((100 * self.e - self.h) / (self.e - self.h)) / 100), \".2f\"))\n",
    "        self.scale = (self.h/self.e) * 100\n",
    "        self.decbin = (int(self.d.bined, 2) / int(''.join('1' for item in range(16)), 2)) * 100\n",
    "        self.dechex = (int(self.d.hexed, 16)/ int(''.join('e' for item in range(16)), 16)) * 100\n",
    "        self.zero = 0\n",
    "        self.good = 0\n",
    "        if self.d.divisible:\n",
    "            self.zero = self.point\n",
    "            self.point = 0\n",
    "        if self.point >= 2:\n",
    "            self.good = 1"
   ]
  },
  {
   "cell_type": "code",
   "execution_count": 21,
   "id": "d9ce0418",
   "metadata": {},
   "outputs": [],
   "source": [
    "class Crexi(Divisible):\n",
    "    pass"
   ]
  },
  {
   "cell_type": "code",
   "execution_count": 22,
   "id": "48dd64f2",
   "metadata": {},
   "outputs": [
    {
     "data": {
      "text/plain": [
       "'ed4cf2ea5eaa5e89dd5e9443a7817b3ed4c3f3105e70b67aa10d4aa4415166a9'"
      ]
     },
     "execution_count": 22,
     "metadata": {},
     "output_type": "execute_result"
    }
   ],
   "source": [
    "r = Crexi(rexi)\n",
    "r.hash"
   ]
  },
  {
   "cell_type": "code",
   "execution_count": 23,
   "id": "5ebd0ce8",
   "metadata": {
    "scrolled": true
   },
   "outputs": [
    {
     "name": "stdout",
     "output_type": "stream",
     "text": [
      "1111111011110111\n",
      "False\n",
      "99.59716182192722\n",
      "90.91451312121815\n",
      "4503599627370496\n",
      "4174635979893413\n",
      "ed4cf2ea5eaa5e89dd5e9443a7817b3ed4c3f3105e70b67aa10d4aa4415166a9\n",
      "13.56\n",
      "0\n",
      "92.69553968612539\n",
      "good\n",
      "     x val_i bitwised hex_hash int_hash bit+int val_f != 0\n",
      "0    0     0        0     ed4c    60748   60748    13    1\n",
      "1    4    13   851968     f2ea    62186  914154     9    1\n",
      "2    8     9   589824     5eaa    24234  614058     3    1\n",
      "3   12     3   196608     5e89    24201  220809     9    1\n",
      "4   16     9   589824     dd5e    56670  646494     9    1\n",
      "5   20     9   589824     9443    37955  627779    14    1\n",
      "6   24    14   917504     a781    42881  960385    10    1\n",
      "7   28    10   655360     7b3e    31550  686910     0    0\n",
      "8   32     0        0     d4c3    54467   54467     2    1\n",
      "9   36     2   131072     f310    62224  193296     6    1\n",
      "10  40     6   393216     5e70    24176  417392     2    1\n",
      "11  44     2   131072     b67a    46714  177786     6    1\n",
      "12  48     6   393216     a10d    41229  434445     0    0\n",
      "13  52     0        0     4aa4    19108   19108    13    1\n",
      "14  56    13   851968     4151    16721  868689     9    1\n",
      "15  60     9   589824     66a9    26281  616105    10    1\n"
     ]
    }
   ],
   "source": [
    "w = Crash(rexi)\n",
    "\n",
    "wkeys = ['bina', 'd', 'deci', 'e', 'h', 'hash', 'point', 'scale', 'zero', 'good']\n",
    "\n",
    "print(w.d.bined)\n",
    "print(w.d.divisible)\n",
    "print(w.decbin)\n",
    "print(w.dechex)\n",
    "print(w.e)\n",
    "print(w.h)\n",
    "print(w.hash)\n",
    "print(w.point)\n",
    "print(w.zero)\n",
    "print(w.scale)\n",
    "txt = 'good' if w.good else 'bad'\n",
    "print(txt)\n",
    "print(w.d.df)"
   ]
  },
  {
   "cell_type": "code",
   "execution_count": 24,
   "id": "48574d5c",
   "metadata": {},
   "outputs": [],
   "source": [
    "class Blaze:\n",
    "    def __init__(self, list=[]):\n",
    "        \n",
    "        opt = webdriver.ChromeOptions()\n",
    "        opt.add_experimental_option('excludeSwitches', ['enable-logging']) # disable \"Devtools listening on...\"\n",
    "        #opt.headless = True\n",
    "        \n",
    "        self.driver = webdriver.Chrome(options=opt)\n",
    "        self.wait = WebDriverWait(self.driver, 10)\n",
    "        self.driver.get(\"https://blaze.com/pt/games/crash\")\n",
    "        self.driver.execute_script(\"document.body.style.zoom='0.7'\")\n",
    "        print(\"Ok, ready to go now!\")\n",
    "\n",
    "        self.list = list\n",
    "        self.nlist = len(self.list)\n",
    "        self.listCrashes()\n",
    "\n",
    "        self.openModal()\n",
    "        self.hash = self.setHash()\n",
    "        self.factor = self.setFactor()\n",
    "        self.closeModal()\n",
    "\n",
    "    def listCrashes(self):\n",
    "        self.wait.until(EC.visibility_of_element_located((By.CSS_SELECTOR, \"div.entries\")))\n",
    "        lista = self.driver.find_elements_by_css_selector(\"div.entries span\")\n",
    "        lista.reverse()\n",
    "        for x in range(len(lista)):\n",
    "            lista[x] = float(lista[x].get_attribute(\"innerHTML\")[:-1])\n",
    "            #print(lista[x])\n",
    "        self.list = lista\n",
    "        self.nlist = len(self.list)\n",
    "\n",
    "    def openModal(self):\n",
    "        print(\"wait until <div.entries> visibility\")\n",
    "        self.wait.until(EC.visibility_of_element_located((By.CSS_SELECTOR, \"div.entries\")))\n",
    "        print(\"<div.entries> located, execute js click script\")\n",
    "        self.driver.execute_script(\"document.querySelector('div.entries span').click()\") #open modal of last crash\n",
    "        print(\"wait until <div.server-roll div> visibility\")\n",
    "        self.wait.until(EC.visibility_of_element_located((By.CSS_SELECTOR, \"div.server-roll div\")))\n",
    "        print(\"modal open completed, hash located:\")\n",
    "\n",
    "    def setHash(self):\n",
    "        return self.driver.find_element_by_css_selector(\"div.server-roll div\").text #get hash on modal of last crash\n",
    "    \n",
    "    def setFactor(self):\n",
    "        return float(self.driver.find_element_by_css_selector(\"div.entries span\").get_attribute(\"innerHTML\")[:-1]) #get str of crash, like 1.23X\n",
    "    \n",
    "    def closeModal(self):\n",
    "        self.driver.execute_script(\"document.querySelector('div.close').click()\")\n",
    "\n",
    "    def listen(self, ntimes=5):\n",
    "        ntimes += self.nlist\n",
    "        self.stamps = pd.DataFrame(data={}, columns=['crash', 'reg', 'duration'])\n",
    "        while self.nlist < ntimes:\n",
    "            newList = self.driver.find_elements_by_css_selector(\"div.entries span\")\n",
    "            newList.reverse()\n",
    "            current = len(newList)\n",
    "            \n",
    "            if current > self.nlist:\n",
    "                for y in range(current-self.nlist):\n",
    "                    self.list.append(float(newList[y-(current-self.nlist)].get_attribute(\"innerHTML\")[:-1]))\n",
    "                    self.tstamps.append(datetime.now())\n",
    "                    print(self.tstamps[-1:])\n",
    "                    print(self.list[y-(current-self.nlist)])\n",
    "                self.nlist = current\n",
    "\n",
    "    def listen2(self):\n",
    "        print('Press Ctrl-C to quit.')\n",
    "        try:\n",
    "            while True:\n",
    "                newList = self.driver.find_elements_by_css_selector(\"div.entries span\")\n",
    "                print(newList[0].get_attribute(\"innerHTML\"),' ', end='\\r')\n",
    "                \n",
    "                \n",
    "        except KeyboardInterrupt:\n",
    "            print('\\n')"
   ]
  },
  {
   "cell_type": "code",
   "execution_count": 25,
   "id": "78ee9309",
   "metadata": {},
   "outputs": [
    {
     "data": {
      "text/plain": [
       "'\\nj = LearnBlaze(aleatory_captured_hashes[0])\\nhf = pd.DataFrame(j.data)\\nprint(hf)'"
      ]
     },
     "execution_count": 25,
     "metadata": {},
     "output_type": "execute_result"
    }
   ],
   "source": [
    "class LearnBlaze:\n",
    "    def __init__(self, hashFromCrashPoint):\n",
    "        self.client_seed = \"0000000000000000000415ebb64b0d51ccee0bb55826e43846e5bea777d91966\"\n",
    "        self.maxHash = int(''.join('f' for item in range(64)), 16)\n",
    "        #self.maxHmac = int(''.join('e' for item in range(64)), 16)\n",
    "        self.seed = hashFromCrashPoint\n",
    "        self.data = {\n",
    "            \"good\":[],\n",
    "            \"point\":[],\n",
    "            \"zeros\":[],\n",
    "            \"seeds\":[self.seed],\n",
    "            \"hmacs\":[],\n",
    "            \"divbin\":[],\n",
    "            \"divhex\":[],\n",
    "        }\n",
    "        \n",
    "        self.genSeeds()\n",
    "        self.genHmacs()\n",
    "        self.genPoints()\n",
    "        self.numerize()\n",
    "        \n",
    "    def genSeeds(self, n=10000):\n",
    "        # first, n seeds are needed\n",
    "        for x in range(n):\n",
    "            (\n",
    "                self.data[\"seeds\"]\n",
    "                .append(hashlib\n",
    "                        .sha256(str.encode(self.data[\"seeds\"][x]))\n",
    "                        .hexdigest())\n",
    "            )\n",
    "        self.data[\"seeds\"].reverse()\n",
    "        \n",
    "    def genHmacs(self):\n",
    "        #hmacs for each seed\n",
    "        for seed in self.data[\"seeds\"]:\n",
    "            (\n",
    "                self.data[\"hmacs\"]\n",
    "                .append(\n",
    "                    hmac.new(\n",
    "                        str.encode(seed),\n",
    "                        str.encode(self.client_seed),\n",
    "                        hashlib.sha256\n",
    "                    ).hexdigest()\n",
    "                )\n",
    "            )\n",
    "    \n",
    "    def genPoints(self):\n",
    "        for eachmac in self.data[\"hmacs\"]:\n",
    "            crash = Crash(eachmac)\n",
    "            self.data[\"point\"].append(crash.point)\n",
    "            self.data[\"good\"].append(crash.good)\n",
    "            self.data[\"zeros\"].append(crash.zero)\n",
    "            self.data[\"divbin\"].append(crash.decbin)\n",
    "            self.data[\"divhex\"].append(crash.dechex)\n",
    "                \n",
    "    def numerize(self):\n",
    "        seeds = self.data[\"seeds\"]\n",
    "        hmacs = self.data[\"hmacs\"]\n",
    "        for x in range(len(seeds)):\n",
    "            seeds[x] = (int(seeds[x], 16) / self.maxHash) * 100\n",
    "            \n",
    "        for y in range(len(hmacs)):\n",
    "            hmacs[y] = (int(hmacs[y], 16) / self.maxHash) * 100\n",
    "\"\"\"\n",
    "j = LearnBlaze(aleatory_captured_hashes[0])\n",
    "hf = pd.DataFrame(j.data)\n",
    "print(hf)\n",
    "\"\"\"\n"
   ]
  },
  {
   "cell_type": "code",
   "execution_count": 30,
   "id": "e64145f7",
   "metadata": {},
   "outputs": [
    {
     "data": {
      "text/html": [
       "<div>\n",
       "<style scoped>\n",
       "    .dataframe tbody tr th:only-of-type {\n",
       "        vertical-align: middle;\n",
       "    }\n",
       "\n",
       "    .dataframe tbody tr th {\n",
       "        vertical-align: top;\n",
       "    }\n",
       "\n",
       "    .dataframe thead th {\n",
       "        text-align: right;\n",
       "    }\n",
       "</style>\n",
       "<table border=\"1\" class=\"dataframe\">\n",
       "  <thead>\n",
       "    <tr style=\"text-align: right;\">\n",
       "      <th></th>\n",
       "      <th>good</th>\n",
       "      <th>point</th>\n",
       "      <th>zeros</th>\n",
       "      <th>seeds</th>\n",
       "      <th>hmacs</th>\n",
       "      <th>divbin</th>\n",
       "      <th>divhex</th>\n",
       "    </tr>\n",
       "  </thead>\n",
       "  <tbody>\n",
       "    <tr>\n",
       "      <th>0</th>\n",
       "      <td>1</td>\n",
       "      <td>7.76</td>\n",
       "      <td>0.00</td>\n",
       "      <td>94.350773</td>\n",
       "      <td>87.237314</td>\n",
       "      <td>73.827726</td>\n",
       "      <td>40.459303</td>\n",
       "    </tr>\n",
       "    <tr>\n",
       "      <th>1</th>\n",
       "      <td>1</td>\n",
       "      <td>2.28</td>\n",
       "      <td>0.00</td>\n",
       "      <td>56.263349</td>\n",
       "      <td>56.463777</td>\n",
       "      <td>100.000000</td>\n",
       "      <td>98.910005</td>\n",
       "    </tr>\n",
       "    <tr>\n",
       "      <th>2</th>\n",
       "      <td>1</td>\n",
       "      <td>4.71</td>\n",
       "      <td>0.00</td>\n",
       "      <td>18.070639</td>\n",
       "      <td>78.964891</td>\n",
       "      <td>43.749142</td>\n",
       "      <td>5.310345</td>\n",
       "    </tr>\n",
       "    <tr>\n",
       "      <th>3</th>\n",
       "      <td>0</td>\n",
       "      <td>1.14</td>\n",
       "      <td>0.00</td>\n",
       "      <td>66.366223</td>\n",
       "      <td>12.721323</td>\n",
       "      <td>74.218357</td>\n",
       "      <td>80.692151</td>\n",
       "    </tr>\n",
       "    <tr>\n",
       "      <th>4</th>\n",
       "      <td>0</td>\n",
       "      <td>1.47</td>\n",
       "      <td>0.00</td>\n",
       "      <td>49.218056</td>\n",
       "      <td>32.328734</td>\n",
       "      <td>96.874952</td>\n",
       "      <td>41.504518</td>\n",
       "    </tr>\n",
       "    <tr>\n",
       "      <th>...</th>\n",
       "      <td>...</td>\n",
       "      <td>...</td>\n",
       "      <td>...</td>\n",
       "      <td>...</td>\n",
       "      <td>...</td>\n",
       "      <td>...</td>\n",
       "      <td>...</td>\n",
       "    </tr>\n",
       "    <tr>\n",
       "      <th>9996</th>\n",
       "      <td>0</td>\n",
       "      <td>1.01</td>\n",
       "      <td>0.00</td>\n",
       "      <td>27.905567</td>\n",
       "      <td>1.735060</td>\n",
       "      <td>93.542382</td>\n",
       "      <td>84.333442</td>\n",
       "    </tr>\n",
       "    <tr>\n",
       "      <th>9997</th>\n",
       "      <td>1</td>\n",
       "      <td>9.57</td>\n",
       "      <td>0.00</td>\n",
       "      <td>96.194418</td>\n",
       "      <td>89.645054</td>\n",
       "      <td>99.993896</td>\n",
       "      <td>62.811496</td>\n",
       "    </tr>\n",
       "    <tr>\n",
       "      <th>9998</th>\n",
       "      <td>0</td>\n",
       "      <td>1.07</td>\n",
       "      <td>0.00</td>\n",
       "      <td>22.289025</td>\n",
       "      <td>6.942892</td>\n",
       "      <td>100.000000</td>\n",
       "      <td>35.825562</td>\n",
       "    </tr>\n",
       "    <tr>\n",
       "      <th>9999</th>\n",
       "      <td>0</td>\n",
       "      <td>0.00</td>\n",
       "      <td>1.99</td>\n",
       "      <td>91.328709</td>\n",
       "      <td>50.027046</td>\n",
       "      <td>99.992370</td>\n",
       "      <td>71.216862</td>\n",
       "    </tr>\n",
       "    <tr>\n",
       "      <th>10000</th>\n",
       "      <td>1</td>\n",
       "      <td>13.56</td>\n",
       "      <td>0.00</td>\n",
       "      <td>61.800056</td>\n",
       "      <td>92.695540</td>\n",
       "      <td>99.597162</td>\n",
       "      <td>90.914513</td>\n",
       "    </tr>\n",
       "  </tbody>\n",
       "</table>\n",
       "<p>10001 rows × 7 columns</p>\n",
       "</div>"
      ],
      "text/plain": [
       "       good  point  zeros      seeds      hmacs      divbin     divhex\n",
       "0         1   7.76   0.00  94.350773  87.237314   73.827726  40.459303\n",
       "1         1   2.28   0.00  56.263349  56.463777  100.000000  98.910005\n",
       "2         1   4.71   0.00  18.070639  78.964891   43.749142   5.310345\n",
       "3         0   1.14   0.00  66.366223  12.721323   74.218357  80.692151\n",
       "4         0   1.47   0.00  49.218056  32.328734   96.874952  41.504518\n",
       "...     ...    ...    ...        ...        ...         ...        ...\n",
       "9996      0   1.01   0.00  27.905567   1.735060   93.542382  84.333442\n",
       "9997      1   9.57   0.00  96.194418  89.645054   99.993896  62.811496\n",
       "9998      0   1.07   0.00  22.289025   6.942892  100.000000  35.825562\n",
       "9999      0   0.00   1.99  91.328709  50.027046   99.992370  71.216862\n",
       "10000     1  13.56   0.00  61.800056  92.695540   99.597162  90.914513\n",
       "\n",
       "[10001 rows x 7 columns]"
      ]
     },
     "execution_count": 30,
     "metadata": {},
     "output_type": "execute_result"
    }
   ],
   "source": [
    "#hf.to_pickle('./jdata.pkl')\n",
    "hf = pd.read_pickle('./jdata.pkl')\n",
    "hf"
   ]
  },
  {
   "cell_type": "code",
   "execution_count": 32,
   "id": "f7a9831e",
   "metadata": {},
   "outputs": [
    {
     "data": {
      "text/html": [
       "<div>\n",
       "<style scoped>\n",
       "    .dataframe tbody tr th:only-of-type {\n",
       "        vertical-align: middle;\n",
       "    }\n",
       "\n",
       "    .dataframe tbody tr th {\n",
       "        vertical-align: top;\n",
       "    }\n",
       "\n",
       "    .dataframe thead th {\n",
       "        text-align: right;\n",
       "    }\n",
       "</style>\n",
       "<table border=\"1\" class=\"dataframe\">\n",
       "  <thead>\n",
       "    <tr style=\"text-align: right;\">\n",
       "      <th></th>\n",
       "      <th>lh</th>\n",
       "      <th>jg</th>\n",
       "      <th>jb</th>\n",
       "    </tr>\n",
       "  </thead>\n",
       "  <tbody>\n",
       "    <tr>\n",
       "      <th>0</th>\n",
       "      <td>47</td>\n",
       "      <td>47</td>\n",
       "      <td>53</td>\n",
       "    </tr>\n",
       "    <tr>\n",
       "      <th>1</th>\n",
       "      <td>46</td>\n",
       "      <td>47</td>\n",
       "      <td>54</td>\n",
       "    </tr>\n",
       "    <tr>\n",
       "      <th>2</th>\n",
       "      <td>46</td>\n",
       "      <td>48</td>\n",
       "      <td>54</td>\n",
       "    </tr>\n",
       "    <tr>\n",
       "      <th>3</th>\n",
       "      <td>46</td>\n",
       "      <td>49</td>\n",
       "      <td>54</td>\n",
       "    </tr>\n",
       "    <tr>\n",
       "      <th>4</th>\n",
       "      <td>46</td>\n",
       "      <td>49</td>\n",
       "      <td>55</td>\n",
       "    </tr>\n",
       "    <tr>\n",
       "      <th>...</th>\n",
       "      <td>...</td>\n",
       "      <td>...</td>\n",
       "      <td>...</td>\n",
       "    </tr>\n",
       "    <tr>\n",
       "      <th>9896</th>\n",
       "      <td>44</td>\n",
       "      <td>4691</td>\n",
       "      <td>5305</td>\n",
       "    </tr>\n",
       "    <tr>\n",
       "      <th>9897</th>\n",
       "      <td>43</td>\n",
       "      <td>4691</td>\n",
       "      <td>5306</td>\n",
       "    </tr>\n",
       "    <tr>\n",
       "      <th>9898</th>\n",
       "      <td>44</td>\n",
       "      <td>4692</td>\n",
       "      <td>5306</td>\n",
       "    </tr>\n",
       "    <tr>\n",
       "      <th>9899</th>\n",
       "      <td>44</td>\n",
       "      <td>4692</td>\n",
       "      <td>5307</td>\n",
       "    </tr>\n",
       "    <tr>\n",
       "      <th>9900</th>\n",
       "      <td>43</td>\n",
       "      <td>4692</td>\n",
       "      <td>5308</td>\n",
       "    </tr>\n",
       "  </tbody>\n",
       "</table>\n",
       "<p>9901 rows × 3 columns</p>\n",
       "</div>"
      ],
      "text/plain": [
       "      lh    jg    jb\n",
       "0     47    47    53\n",
       "1     46    47    54\n",
       "2     46    48    54\n",
       "3     46    49    54\n",
       "4     46    49    55\n",
       "...   ..   ...   ...\n",
       "9896  44  4691  5305\n",
       "9897  43  4691  5306\n",
       "9898  44  4692  5306\n",
       "9899  44  4692  5307\n",
       "9900  43  4692  5308\n",
       "\n",
       "[9901 rows x 3 columns]"
      ]
     },
     "execution_count": 32,
     "metadata": {},
     "output_type": "execute_result"
    }
   ],
   "source": [
    "last100, justGoods, justBads = ([], [], [])\n",
    "for x in range(10001-100):\n",
    "    last100.append(hf.good[x:100+x].sum())\n",
    "    justGoods.append(hf.good[:100+x].sum())\n",
    "    justBads.append((100+x) - hf.good[:100+x].sum())\n",
    "    \n",
    "tn = pd.DataFrame({\n",
    "    \"lh\":last100,\n",
    "    \"jg\":justGoods,\n",
    "    \"jb\":justBads,\n",
    "})\n",
    "tn"
   ]
  },
  {
   "cell_type": "code",
   "execution_count": 52,
   "id": "660d358e",
   "metadata": {},
   "outputs": [
    {
     "data": {
      "image/png": "[encoded data removed]",
      "text/plain": [
       "<Figure size 3300x1200 with 1 Axes>"
      ]
     },
     "metadata": {
      "needs_background": "light"
     },
     "output_type": "display_data"
    }
   ],
   "source": [
    "un = 500\n",
    "plt.figure(figsize=(22, 8), dpi=150)\n",
    "plt.plot([i for i in range(un)], tn.lh[:un])\n",
    "plt.show()"
   ]
  }
 ],
 "metadata": {
  "kernelspec": {
   "display_name": "Python 3 (ipykernel)",
   "language": "python",
   "name": "python3"
  },
  "language_info": {
   "codemirror_mode": {
    "name": "ipython",
    "version": 3
   },
   "file_extension": ".py",
   "mimetype": "text/x-python",
   "name": "python",
   "nbconvert_exporter": "python",
   "pygments_lexer": "ipython3",
   "version": "3.8.10"
  }
 },
 "nbformat": 4,
 "nbformat_minor": 5
}
